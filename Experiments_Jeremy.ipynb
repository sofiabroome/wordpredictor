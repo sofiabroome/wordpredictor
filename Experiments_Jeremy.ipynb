{
 "cells": [
  {
   "cell_type": "code",
   "execution_count": 2,
   "metadata": {
    "collapsed": false
   },
   "outputs": [],
   "source": [
    "from models.ngram_model import NgramModel\n",
    "import nltk\n",
    "from nltk.corpus import gutenberg\n",
    "\n",
    "%matplotlib inline\n",
    "import matplotlib.pyplot as pl\n",
    "\n",
    "carroll = gutenberg.words('carroll-alice.txt')\n",
    "s1 = gutenberg.words('shakespeare-caesar.txt');\n",
    "s2 = gutenberg.words('shakespeare-hamlet.txt');\n",
    "s3 = gutenberg.words('shakespeare-macbeth.txt');\n",
    "# print len(s1), len(s2), len(s3)\n",
    "# print len(carroll)\n",
    "# gutenberg.fileids()"
   ]
  },
  {
   "cell_type": "code",
   "execution_count": 3,
   "metadata": {
    "collapsed": false
   },
   "outputs": [],
   "source": [
    "def test_corpora(corpora, query, n, m):\n",
    "    for k in range(2, 5, 1):\n",
    "        fm = NgramModel(k)\n",
    "        fm.train(corpora)\n",
    "        for i in range(m):\n",
    "            print \"Result for a\",(str(k)+\"-gram: \"), fm.predict_words(query, n)"
   ]
  },
  {
   "cell_type": "code",
   "execution_count": 14,
   "metadata": {
    "collapsed": false,
    "scrolled": false
   },
   "outputs": [
    {
     "name": "stdout",
     "output_type": "stream",
     "text": [
      "Result for a 2-gram:  Alice was looking for I wish I don ' And with a lobster as\n",
      "Result for a 2-gram:  Alice was looking for eggs , and read fairy - way wherever she found\n",
      "Result for a 2-gram:  Alice was looking for I ' Well , but I ' m a dance\n",
      "Result for a 2-gram:  Alice was looking for some tea - box in one ' Well , passionate\n",
      "Result for a 2-gram:  Alice was looking for catching mice you could not going to see the soldiers\n",
      "Result for a 3-gram:  Alice was looking for the White Rabbit blew three blasts on the look of\n",
      "Result for a 3-gram:  Alice was looking for the garden , among the bright eager eyes were nearly\n",
      "Result for a 3-gram:  Alice was looking for the moment she appeared on the trumpet , and among\n",
      "Result for a 3-gram:  Alice was looking for it , it occurred to her head was so much\n",
      "Result for a 3-gram:  Alice was looking for them , and burning with curiosity , and she felt\n",
      "Result for a 4-gram:  Alice was looking for the fan and gloves . ' How queer it seems\n",
      "Result for a 4-gram:  Alice was looking for the fan and the pair of white kid gloves while\n",
      "Result for a 4-gram:  Alice was looking for the fan and gloves -- that is , if I\n",
      "Result for a 4-gram:  Alice was looking for the fan and gloves -- that is , if I\n",
      "Result for a 4-gram:  Alice was looking for the fan and gloves , and she very good -\n"
     ]
    }
   ],
   "source": [
    "test_corpora(carroll, \"Alice was looking for\", 10, 5)"
   ]
  },
  {
   "cell_type": "code",
   "execution_count": 17,
   "metadata": {
    "collapsed": false
   },
   "outputs": [
    {
     "name": "stdout",
     "output_type": "stream",
     "text": [
      "Result for a  2-gram:  However , there is a whale - fleet of this , and the two\n",
      "Result for a  3-gram:  However , there is no place to live in the captain ' s a\n",
      "Result for a  4-gram:  However , there is no telling . But a day or two previous ,\n"
     ]
    }
   ],
   "source": [
    "test_corpora(melville, \"However , there is\", 10, 5)"
   ]
  },
  {
   "cell_type": "code",
   "execution_count": 18,
   "metadata": {
    "collapsed": false
   },
   "outputs": [
    {
     "name": "stdout",
     "output_type": "stream",
     "text": [
      "Result for a  2-gram:  I think that you must have been offered a whale , when the long\n",
      "Result for a  3-gram:  I think that you do yours in approved state stocks bringing in good time\n",
      "Result for a  4-gram:  I think that you really perceived drops of moisture in the spout - hole\n"
     ]
    }
   ],
   "source": [
    "test_corpora(melville, \"I think that you\", 10, 5)"
   ]
  },
  {
   "cell_type": "code",
   "execution_count": 25,
   "metadata": {
    "collapsed": false
   },
   "outputs": [
    {
     "name": "stdout",
     "output_type": "stream",
     "text": [
      "Result for a  2-gram:  You are in great Caesar , and for your Testie Humour ? And do you are at Philippi Bru . I know not Brutus , I am no man , and friendly Conference ,\n",
      "Result for a  3-gram:  You are in great Caesars eare , For if thou louest me , Ile ne ' re look ' d , And tell them , it is not the Face of men , and\n",
      "Result for a  4-gram:  You are in great danger , I recouer them . As proper men as euer trod vpon Neats Leather , haue gone vpon my handy - worke Fla . But wherefore did you so\n"
     ]
    }
   ],
   "source": [
    "test_corpora(s1, \"You are in great\", 30)"
   ]
  },
  {
   "cell_type": "code",
   "execution_count": 28,
   "metadata": {
    "collapsed": false
   },
   "outputs": [
    {
     "name": "stdout",
     "output_type": "stream",
     "text": [
      "Result for a  2-gram:  This great buyer of the King . I could be so , That I am very potent poyson in this ; Addicted so ,\n",
      "Result for a  3-gram:  This great buyer of Land , And so am I ? Is it your owne necke downe Qu . Alas then , my Lord\n",
      "Result for a  4-gram:  This great buyer of Land , with his Statutes , his Recognizances , his Fines , and the trifling of his fauours , Hold\n"
     ]
    }
   ],
   "source": [
    "test_corpora(s2, \"This great buyer of\", 20)"
   ]
  },
  {
   "cell_type": "code",
   "execution_count": 33,
   "metadata": {
    "collapsed": false
   },
   "outputs": [
    {
     "name": "stdout",
     "output_type": "stream",
     "text": [
      "Result for a  2-gram:  I am afraid they not be done to thine owne demerits , That most may you haue tied me , and trouble , And\n",
      "Result for a  3-gram:  I am afraid they haue more vices then it had before , to thinke what I doe , and the Ague eate them vp\n",
      "Result for a  4-gram:  I am afraid they haue awak ' d him well , He hath a Wisdome , that doth guide his Valour , To act\n"
     ]
    }
   ],
   "source": [
    "test_corpora(s3, \"I am afraid they\", 20)"
   ]
  },
  {
   "cell_type": "markdown",
   "metadata": {},
   "source": [
    "# FIRST EXPERIMENTS : TUNING N"
   ]
  },
  {
   "cell_type": "code",
   "execution_count": null,
   "metadata": {
    "collapsed": false,
    "scrolled": false
   },
   "outputs": [
    {
     "name": "stdout",
     "output_type": "stream",
     "text": [
      "Results for a 2-gram: \n",
      "Alice was looking for she ' s the morning I ' You know .\n",
      "Alice was looking for Mabel ! Turn a stalk out , and she might\n",
      "Alice was looking for them off after all the Cat : she thought Alice\n",
      "Alice was looking for she picked up against the Mock Turtle yet .' '\n",
      "Alice was looking for I can find it , after her foot ! And\n",
      "\n",
      "\n",
      "Results for a 3-gram: \n",
      "Alice was looking for it ,' said Alice in a whisper , half to\n",
      "Alice was looking for the rest waited in silence . ' Well , I\n",
      "Alice was looking for it might end , you know .' ' Why ,\n",
      "Alice was looking for eggs , I can ' t have put it in\n",
      "Alice was looking for eggs , I know all the unjust things --' when\n",
      "\n",
      "\n",
      "Results for a 4-gram: \n",
      "Alice was looking for the fan and a pair of gloves and a fan\n",
      "Alice was looking for the fan and gloves , and , just as if\n",
      "Alice was looking for the fan and gloves -- that is , but I\n",
      "Alice was looking for the fan and the pair of white kid gloves and\n",
      "Alice was looking for the fan and the pair of white kid gloves in\n",
      "\n",
      "\n"
     ]
    }
   ],
   "source": [
    "for k in range(2, 5, 1):\n",
    "    fm = NgramModel(k)\n",
    "    fm.train(carroll)\n",
    "    print \"Results for a\",(str(k)+\"-gram: \")\n",
    "    for k in range(5):\n",
    "        print fm.predict_words(\"Alice was looking for\", 10)\n",
    "    print \"\\n\""
   ]
  },
  {
   "cell_type": "code",
   "execution_count": 4,
   "metadata": {
    "collapsed": false,
    "scrolled": true
   },
   "outputs": [
    {
     "name": "stdout",
     "output_type": "stream",
     "text": [
      "Results for a 2-gram: \n",
      "I am afraid they meant to the Mawes of Sunne ' d . So\n",
      "I am afraid they plac ' s murther ' re the House ? what\n",
      "I am afraid they say , with thy knocking at hand . Macd .\n",
      "I am afraid they were the Reuolt The Soueraignty will put mine owne demerits\n",
      "I am afraid they plac ' t you : silenc ' Tis said to\n",
      "\n",
      "\n",
      "\n",
      "Results for a 3-gram: \n",
      "I am afraid they haue don ' t 3 Appar . Macbeth and Lenox\n",
      "I am afraid they haue more in them : And went further , Lady\n",
      "I am afraid they haue don ' t off I say , this Noble\n",
      "I am afraid they haue don ' t , read it , came Missiues\n",
      "I am afraid they haue awak ' d with those That would make vp\n",
      "\n",
      "\n",
      "\n",
      "Results for a 4-gram: \n",
      "I am afraid they haue awak ' d him : here he comes Lenox\n",
      "I am afraid they haue awak ' d him well , He hath a\n",
      "I am afraid they haue awak ' d him well , He hath a\n",
      "I am afraid they haue awak ' d , That the maleuolence of Fortune\n",
      "I am afraid they haue awak ' d him from the Naue toth '\n",
      "\n",
      "\n",
      "\n"
     ]
    }
   ],
   "source": [
    "for k in range(2, 5, 1):\n",
    "    fm = NgramModel(k)\n",
    "    fm.train(s3)\n",
    "    print \"Results for a\",(str(k)+\"-gram: \")\n",
    "    for k in range(5):\n",
    "        print fm.predict_words(\"I am afraid they\", 10)\n",
    "    print \"\\n\\n\""
   ]
  },
  {
   "cell_type": "markdown",
   "metadata": {},
   "source": [
    "# SMOOTHING"
   ]
  },
  {
   "cell_type": "code",
   "execution_count": 4,
   "metadata": {
    "collapsed": false
   },
   "outputs": [
    {
     "name": "stdout",
     "output_type": "stream",
     "text": [
      "There is no likely ngram with these last words. Try some smoothing methods.\n",
      "That was Alice who\n",
      "3016\n"
     ]
    }
   ],
   "source": [
    "fm = NgramModel(5);\n",
    "fm.train(carroll);\n",
    "print fm.predict_words(\"That was Alice who\", 5)\n",
    "print len(fm.unique_words)"
   ]
  },
  {
   "cell_type": "code",
   "execution_count": 7,
   "metadata": {
    "collapsed": false
   },
   "outputs": [
    {
     "name": "stdout",
     "output_type": "stream",
     "text": [
      "Winning match is:  [('That', 'was', 'Alice', 'who', u'Hearts'), 0.000331564986737383]\n",
      "That was Alice who Hearts\n",
      "Winning match is:  [('That', 'was', 'Alice', 'who', u'where'), 0.000331564986737383]\n",
      "That was Alice who where\n",
      "Winning match is:  [('That', 'was', 'Alice', 'who', u'ignorant'), 0.000331564986737383]\n",
      "That was Alice who ignorant\n",
      "Winning match is:  [('That', 'was', 'Alice', 'who', u'truth'), 0.000331564986737383]\n",
      "That was Alice who truth\n",
      "Winning match is:  [('That', 'was', 'Alice', 'who', u'fix'), 0.000331564986737383]\n",
      "That was Alice who fix\n",
      "Winning match is:  [('That', 'was', 'Alice', 'who', u'settle'), 0.000331564986737383]\n",
      "That was Alice who settle\n",
      "Winning match is:  [('That', 'was', 'Alice', 'who', u'executioner'), 0.000331564986737383]\n",
      "That was Alice who executioner\n",
      "Winning match is:  [('That', 'was', 'Alice', 'who', u'Your'), 0.000331564986737383]\n",
      "That was Alice who Your\n",
      "Winning match is:  [('That', 'was', 'Alice', 'who', u'soup'), 0.000331564986737383]\n",
      "That was Alice who soup\n",
      "Winning match is:  [('That', 'was', 'Alice', 'who', u'lips'), 0.000331564986737383]\n",
      "That was Alice who lips\n"
     ]
    }
   ],
   "source": [
    "fm.smooth(\"LidstoneProbDist\", fm.frequencies, 0.5)\n",
    "for k in range(10):\n",
    "    print fm.predict_words(\"That was Alice who\", 1)"
   ]
  },
  {
   "cell_type": "code",
   "execution_count": 9,
   "metadata": {
    "collapsed": false
   },
   "outputs": [
    {
     "name": "stdout",
     "output_type": "stream",
     "text": [
      "Winning match is:  [('That', 'was', 'Alice', 'who', u'fairy'), 0.00033156498673740165]\n",
      "That was Alice who fairy\n",
      "Winning match is:  [('That', 'was', 'Alice', 'who', u'Croquet'), 0.00033156498673740165]\n",
      "That was Alice who Croquet\n",
      "Winning match is:  [('That', 'was', 'Alice', 'who', u'accounts'), 0.00033156498673740165]\n",
      "That was Alice who accounts\n",
      "Winning match is:  [('That', 'was', 'Alice', 'who', u'parchment'), 0.00033156498673740165]\n",
      "That was Alice who parchment\n",
      "Winning match is:  [('That', 'was', 'Alice', 'who', u'skurried'), 0.00033156498673740165]\n",
      "That was Alice who skurried\n",
      "Winning match is:  [('That', 'was', 'Alice', 'who', u'considered'), 0.00033156498673740165]\n",
      "That was Alice who considered\n",
      "Winning match is:  [('That', 'was', 'Alice', 'who', u'unjust'), 0.00033156498673740165]\n",
      "That was Alice who unjust\n",
      "Winning match is:  [('That', 'was', 'Alice', 'who', u'opposite'), 0.00033156498673740165]\n",
      "That was Alice who opposite\n",
      "Winning match is:  [('That', 'was', 'Alice', 'who', u'smoke'), 0.00033156498673740165]\n",
      "That was Alice who smoke\n",
      "Winning match is:  [('That', 'was', 'Alice', 'who', u'Caterpillar'), 0.00033156498673740165]\n",
      "That was Alice who Caterpillar\n"
     ]
    }
   ],
   "source": [
    "fm.smooth(\"LaplaceProbDist\", fm.frequencies)\n",
    "for k in range(10):\n",
    "    print fm.predict_words(\"That was Alice who\", 1)"
   ]
  },
  {
   "cell_type": "code",
   "execution_count": 7,
   "metadata": {
    "collapsed": false
   },
   "outputs": [
    {
     "name": "stdout",
     "output_type": "stream",
     "text": [
      "There are 3016 unique words in this dataset.\n",
      "Frequency of (she, was): 49\n",
      "Frequency of (she, is): 3\n",
      "Frequency of (she, blue): 0 \n",
      "\n",
      "Prob of (she, is): 8.79533261016e-05\n",
      "Prob of (she, was): 0.00143657099299\n",
      "Prob of (she, blue): 0.0\n",
      "Prob ratio was/is: 16.3333333333\n",
      "\n",
      "SimpleGoodTuring\n",
      "\n",
      "Prob of (she, is): 6.0723297438e-05\n",
      "Prob of (she, was): 0.00139591586689\n",
      "Prob of (she, blue): 3.70129741617e-08\n",
      "Prob ratio was/is: 22.9881433615\n",
      "Prob ratio was/blue: 37714.2312527\n",
      "\n",
      "WittenBell\n",
      "\n",
      "Prob of (she, is): 6.02494326512e-05\n",
      "Prob of (she, was): 0.000984074066636\n",
      "Prob of (she, blue): 3.46876864035e-08\n",
      "Prob ratio was/is: 16.3333333333\n",
      "Prob ratio was/blue: 28369.5503698\n",
      "\n",
      "LidstoneProbDist with parameter 0.5\n",
      "\n",
      "Prob of (she, is): 8.3430669114e-05\n",
      "Prob of (she, was): 0.00117994803461\n",
      "Prob of (she, blue): 1.19186670163e-05\n",
      "Prob ratio was/is: 14.1428571429\n",
      "Prob ratio was/blue: 99.0\n",
      "\n",
      "LidstoneProbDist with parameter 1\n",
      "\n",
      "Prob of (she, is): 8.03325768682e-05\n",
      "Prob of (she, was): 0.00100415721085\n",
      "Prob of (she, blue): 2.00831442171e-05\n",
      "Prob ratio was/is: 12.5\n",
      "Prob ratio was/blue: 50.0\n",
      "\n",
      "LaplaceProbDist\n",
      "\n",
      "Frequency of (she, was): 49\n",
      "Frequency of (she, is): 3\n",
      "Frequency of (she, blue): 0 \n",
      "\n",
      "Prob of (she, is): 8.03325768682e-05\n",
      "Prob of (she, was): 0.00100415721085\n",
      "Prob of (she, blue): 2.00831442171e-05\n",
      "Prob ratio was/is: 12.5\n",
      "Prob ratio was/blue: 50.0\n"
     ]
    }
   ],
   "source": [
    "fm = NgramModel(2);\n",
    "fm.train(carroll);\n",
    "print \"There are\", len(fm.unique_words), \"unique words in this dataset.\"\n",
    "\n",
    "print \"Frequency of (she, was):\", fm.frequencies[('she','was')]\n",
    "print \"Frequency of (she, is):\", fm.frequencies[('she','is')]\n",
    "print \"Frequency of (she, blue):\", fm.frequencies[('she','blue')], \"\\n\"\n",
    "print \"Prob of (she, is):\", fm.probs_ng.prob(('she', 'is'))\n",
    "print \"Prob of (she, was):\", fm.probs_ng.prob(('she', 'was'))\n",
    "print \"Prob of (she, blue):\", fm.probs_ng.prob(('she', 'blue'))\n",
    "print \"Prob ratio was/is:\", fm.probs_ng.prob(('she', 'was')) / fm.probs_ng.prob(('she', 'is'))\n",
    "\n",
    "\n",
    "# Gives a probability to a n-grams counted n-times given the probabilities of n-gram counted n+1-times.\n",
    "\n",
    "print \"\\nSimpleGoodTuring\\n\"\n",
    "fm.smooth(\"SimpleGoodTuringProbDist\", fm.frequencies, len(fm.unique_words) ** 2)\n",
    "print \"Prob of (she, is):\", fm.probs_ng.prob(('she', 'is'))\n",
    "print \"Prob of (she, was):\", fm.probs_ng.prob(('she', 'was'))\n",
    "print \"Prob of (she, blue):\", fm.probs_ng.prob(('she', 'blue'))\n",
    "print \"Prob ratio was/is:\", fm.probs_ng.prob(('she', 'was')) / fm.probs_ng.prob(('she', 'is'))\n",
    "print \"Prob ratio was/blue:\", fm.probs_ng.prob(('she', 'was')) / fm.probs_ng.prob(('she', 'blue'))\n",
    "\n",
    "\n",
    "# The probability mass of unseen events equals the probability mass of events that occured once in the corpora\n",
    "\n",
    "print \"\\nWittenBell\\n\"\n",
    "fm.smooth(\"WittenBellProbDist\", fm.frequencies, len(fm.unique_words) ** 2)\n",
    "print \"Prob of (she, is):\", fm.probs_ng.prob(('she', 'is'))\n",
    "print \"Prob of (she, was):\", fm.probs_ng.prob(('she', 'was'))\n",
    "print \"Prob of (she, blue):\", fm.probs_ng.prob(('she', 'blue'))\n",
    "print \"Prob ratio was/is:\", fm.probs_ng.prob(('she', 'was')) / fm.probs_ng.prob(('she', 'is'))\n",
    "print \"Prob ratio was/blue:\", fm.probs_ng.prob(('she', 'was')) / fm.probs_ng.prob(('she', 'blue'))\n",
    "\n",
    "\n",
    "# Adds 0.5 to each frequency and then computes MLE\n",
    "\n",
    "print \"\\nLidstoneProbDist with parameter 0.5\\n\"\n",
    "fm.smooth(\"LidstoneProbDist\", fm.frequencies, 0.5)\n",
    "print \"Prob of (she, is):\", fm.probs_ng.prob(('she', 'is'))\n",
    "print \"Prob of (she, was):\", fm.probs_ng.prob(('she', 'was'))\n",
    "print \"Prob of (she, blue):\", fm.probs_ng.prob(('she', 'blue'))\n",
    "print \"Prob ratio was/is:\", fm.probs_ng.prob(('she', 'was')) / fm.probs_ng.prob(('she', 'is'))\n",
    "print \"Prob ratio was/blue:\", fm.probs_ng.prob(('she', 'was')) / fm.probs_ng.prob(('she', 'blue'))\n",
    "\n",
    "\n",
    "\n",
    "# Lidstone with parameter 1 should be the same as Laplace since it just adds one to each frequency and does MLE.\n",
    "\n",
    "print \"\\nLidstoneProbDist with parameter 1\\n\"\n",
    "fm.smooth(\"LidstoneProbDist\", fm.frequencies, 1)\n",
    "print \"Prob of (she, is):\", fm.probs_ng.prob(('she', 'is'))\n",
    "print \"Prob of (she, was):\", fm.probs_ng.prob(('she', 'was'))\n",
    "print \"Prob of (she, blue):\", fm.probs_ng.prob(('she', 'blue'))\n",
    "print \"Prob ratio was/is:\", fm.probs_ng.prob(('she', 'was')) / fm.probs_ng.prob(('she', 'is'))\n",
    "print \"Prob ratio was/blue:\", fm.probs_ng.prob(('she', 'was')) / fm.probs_ng.prob(('she', 'blue'))\n",
    "\n",
    "print \"\\nLaplaceProbDist\\n\"\n",
    "fm.smooth(\"LaplaceProbDist\", fm.frequencies)\n",
    "print \"Prob of (she, is):\", fm.probs_ng.prob(('she', 'is'))\n",
    "print \"Prob of (she, was):\", fm.probs_ng.prob(('she', 'was'))\n",
    "print \"Prob of (she, blue):\", fm.probs_ng.prob(('she', 'blue'))\n",
    "print \"Prob ratio was/is:\", fm.probs_ng.prob(('she', 'was')) / fm.probs_ng.prob(('she', 'is'))\n",
    "print \"Prob ratio was/blue:\", fm.probs_ng.prob(('she', 'was')) / fm.probs_ng.prob(('she', 'blue'))\n"
   ]
  },
  {
   "cell_type": "markdown",
   "metadata": {},
   "source": [
    "# Plot probability distribution"
   ]
  },
  {
   "cell_type": "code",
   "execution_count": 174,
   "metadata": {
    "collapsed": false
   },
   "outputs": [],
   "source": [
    "def plot_corpora_frequencies(corpora, n, min_freq=0, max_freq=100, color=None):\n",
    "    model = NgramModel(n)\n",
    "    model.train(corpora)\n",
    "    color = \"blue\" if color is None else color\n",
    "    high_freq = [model.frequencies[x] for x in model.frequencies.keys() if (model.frequencies[x] >= min_freq and model.frequencies[x] <= max_freq)]\n",
    "    high_freq = sorted(high_freq, reverse = True)\n",
    "    pl.plot(range(len(high_freq)), high_freq, color, label=\"Original frequencies\")"
   ]
  },
  {
   "cell_type": "code",
   "execution_count": 192,
   "metadata": {
    "collapsed": false
   },
   "outputs": [],
   "source": [
    "def plot_model_distribution(model, min_freq=0, max_freq=100, smoothing=None, *args):\n",
    "    high_freq = [model.probs_ng.prob(x) for x in model.frequencies.keys() if (model.frequencies[x] >= min_freq and model.frequencies[x] <= max_freq)]\n",
    "    high_freq = sorted(high_freq, reverse = True)\n",
    "    pl.plot(range(len(high_freq)), high_freq, \"blue\", label=\"Without smoothing\")\n",
    "    \n",
    "    if smoothing is not None:\n",
    "        model.smooth(smoothing, model.frequencies, *args)\n",
    "        high_freq = [model.probs_ng.prob(x) for x in model.frequencies.keys() if (model.frequencies[x] >= min_freq and model.frequencies[x] <= max_freq)]\n",
    "        high_freq = sorted(high_freq, reverse = True)\n",
    "        pl.plot(range(len(high_freq)), high_freq, \"red\", label=smoothing[:-8])\n",
    "    pl.xlabel(\"N-grams\")\n",
    "    pl.ylabel(\"Probability\")\n",
    "    frame = pl.gca()\n",
    "    frame.axes.get_xaxis().set_ticks([])\n",
    "    frame.axes.get_yaxis().set_ticks([])\n",
    "    pl.title(\"Probability distributions of \"+str(model.n)+\"-grams\")\n",
    "    pl.legend()\n",
    "    pl.show()"
   ]
  },
  {
   "cell_type": "code",
   "execution_count": 193,
   "metadata": {
    "collapsed": false
   },
   "outputs": [
    {
     "data": {
      "image/png": "[encoded data removed]",
      "text/plain": [
       "<matplotlib.figure.Figure at 0x7fbe4d6ad710>"
      ]
     },
     "metadata": {},
     "output_type": "display_data"
    }
   ],
   "source": [
    "plot_corpora_frequencies(carroll, 2, 8, 100, \"blue\")\n",
    "plot_corpora_frequencies(carroll, 3, 3, 100, \"red\")\n",
    "plot_corpora_frequencies(carroll, 4, 3, 100, \"black\")\n",
    "pl.show()"
   ]
  },
  {
   "cell_type": "code",
   "execution_count": 199,
   "metadata": {
    "collapsed": false
   },
   "outputs": [
    {
     "data": {
      "image/png": "[encoded data removed]",
      "text/plain": [
       "<matplotlib.figure.Figure at 0x7fbe5533eb90>"
      ]
     },
     "metadata": {},
     "output_type": "display_data"
    },
    {
     "data": {
      "image/png": "[encoded data removed]",
      "text/plain": [
       "<matplotlib.figure.Figure at 0x7fbe56652d10>"
      ]
     },
     "metadata": {},
     "output_type": "display_data"
    },
    {
     "data": {
      "image/png": "[encoded data removed]",
      "text/plain": [
       "<matplotlib.figure.Figure at 0x7fbe56a47310>"
      ]
     },
     "metadata": {},
     "output_type": "display_data"
    }
   ],
   "source": [
    "model = NgramModel(2)\n",
    "model.train(carroll)\n",
    "plot_model_distribution(model, 10, 100, 'LidstoneProbDist', 0.5)\n",
    "model = NgramModel(2)\n",
    "model.train(carroll)\n",
    "plot_model_distribution(model, 10, 100, 'WittenBellProbDist', len(model.unique_words) ** 2)\n",
    "model = NgramModel(2)\n",
    "model.train(carroll)\n",
    "plot_model_distribution(model, 10, 100, 'SimpleGoodTuringProbDist', len(model.unique_words) ** 2 / 100)\n"
   ]
  },
  {
   "cell_type": "code",
   "execution_count": 200,
   "metadata": {
    "collapsed": false
   },
   "outputs": [
    {
     "data": {
      "image/png": "[encoded data removed]",
      "text/plain": [
       "<matplotlib.figure.Figure at 0x7fbe575513d0>"
      ]
     },
     "metadata": {},
     "output_type": "display_data"
    },
    {
     "data": {
      "image/png": "[encoded data removed]",
      "text/plain": [
       "<matplotlib.figure.Figure at 0x7fbe5641dbd0>"
      ]
     },
     "metadata": {},
     "output_type": "display_data"
    },
    {
     "data": {
      "image/png": "[encoded data removed]",
      "text/plain": [
       "<matplotlib.figure.Figure at 0x7fbe55575450>"
      ]
     },
     "metadata": {},
     "output_type": "display_data"
    }
   ],
   "source": [
    "model = NgramModel(4)\n",
    "model.train(carroll)\n",
    "plot_model_distribution(model, 5, 100, 'LidstoneProbDist', 0.5)\n",
    "pl.show()\n",
    "model = NgramModel(4)\n",
    "model.train(carroll)\n",
    "plot_model_distribution(model, 5, 100, 'WittenBellProbDist', len(model.unique_words) ** 2)\n",
    "pl.show()\n",
    "model = NgramModel(4)\n",
    "model.train(carroll)\n",
    "plot_model_distribution(model, 5, 100, 'SimpleGoodTuringProbDist', len(model.unique_words) ** 2 / 100)\n",
    "pl.show()"
   ]
  },
  {
   "cell_type": "code",
   "execution_count": null,
   "metadata": {
    "collapsed": true
   },
   "outputs": [],
   "source": []
  }
 ],
 "metadata": {
  "kernelspec": {
   "display_name": "Python 2",
   "language": "python",
   "name": "python2"
  },
  "language_info": {
   "codemirror_mode": {
    "name": "ipython",
    "version": 2
   },
   "file_extension": ".py",
   "mimetype": "text/x-python",
   "name": "python",
   "nbconvert_exporter": "python",
   "pygments_lexer": "ipython2",
   "version": "2.7.9"
  }
 },
 "nbformat": 4,
 "nbformat_minor": 0
}
