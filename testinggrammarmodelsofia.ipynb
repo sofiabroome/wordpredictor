{
 "cells": [
  {
   "cell_type": "code",
   "execution_count": 4,
   "metadata": {
    "collapsed": true
   },
   "outputs": [],
   "source": [
    "from models.bigram_model import BigramModel\n",
    "from models.trigram_model import TrigramModel\n",
    "from models.ngram_model import NgramModel\n",
    "from models.BigramModelGrammar import BigramModelGrammar\n",
    "from models.GrammarModel import GrammarModel\n",
    "import nltk\n",
    "from nltk.corpus import brown"
   ]
  },
  {
   "cell_type": "code",
   "execution_count": 6,
   "metadata": {
    "collapsed": false
   },
   "outputs": [
    {
     "name": "stdout",
     "output_type": "stream",
     "text": [
      "<MLEProbDist based on 1161189 samples>\n",
      "[((u'for', u'something', u'other'), 1.2607899003086165e-11), ((u'for', u'something', u'.'), 1.1947838408218714e-09), ((u'for', u'something', u'that'), 1.779938682788635e-11), ((u'for', u'something', u'exciting'), 1.2311242555954726e-10), ((u'for', u'something', u'if'), 2.3806679882298e-10), ((u'for', u'something', u'stable'), 2.173008475237792e-10), ((u'for', u'something', u'explosive'), 1.2607899003086165e-11), ((u'for', u'something', u'or'), 9.715498643554633e-11), ((u'for', u'something', u'he'), 7.41641117828598e-13)]\n"
     ]
    }
   ],
   "source": [
    "g = GrammarModel()\n",
    "g.train(nltk.corpus.brown.tagged_words(tagset='universal'))\n",
    "t = TrigramModel()\n",
    "t.train(nltk.corpus.brown.words())\n",
    "query_string = \"And now for something\"\n",
    "better = g.predict_next_word(t,query_string)\n",
    "print better"
   ]
  },
  {
   "cell_type": "code",
   "execution_count": null,
   "metadata": {
    "collapsed": true
   },
   "outputs": [],
   "source": []
  }
 ],
 "metadata": {
  "kernelspec": {
   "display_name": "Python 2",
   "language": "python",
   "name": "python2"
  },
  "language_info": {
   "codemirror_mode": {
    "name": "ipython",
    "version": 2
   },
   "file_extension": ".py",
   "mimetype": "text/x-python",
   "name": "python",
   "nbconvert_exporter": "python",
   "pygments_lexer": "ipython2",
   "version": "2.7.10"
  }
 },
 "nbformat": 4,
 "nbformat_minor": 0
}
