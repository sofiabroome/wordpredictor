{
 "cells": [
  {
   "cell_type": "code",
   "execution_count": 1,
   "metadata": {
    "collapsed": false
   },
   "outputs": [],
   "source": [
    "from models.bigram_model import BigramModel\n",
    "from models.trigram_model import TrigramModel\n",
    "from models.ngram_model import NgramModel\n",
    "\n",
    "from nltk.corpus import gutenberg\n",
    "words = gutenberg.words('melville-moby_dick.txt')"
   ]
  },
  {
   "cell_type": "code",
   "execution_count": 2,
   "metadata": {
    "collapsed": false
   },
   "outputs": [
    {
     "name": "stdout",
     "output_type": "stream",
     "text": [
      "((u'white', u'whale'), 0.00011885682736620939)\n"
     ]
    }
   ],
   "source": [
    "bm = BigramModel()\n",
    "bm.train(words)\n",
    "\n",
    "matches = bm.predict_next_word(\"I would like to buy one can of white\")\n",
    "print matches[-1]"
   ]
  },
  {
   "cell_type": "code",
   "execution_count": 3,
   "metadata": {
    "collapsed": false
   },
   "outputs": [
    {
     "name": "stdout",
     "output_type": "stream",
     "text": [
      "((u'a', u'great', u'distance'), 7.668211811346654e-06)\n",
      "((u'a', u'great', u'distance'), 7.668211811346654e-06)\n",
      "((u'a', u'great', u'while'), 7.668211811346654e-06)\n",
      "((u'a', u'great', u'battle'), 7.668211811346654e-06)\n",
      "((u'a', u'great', u'battle'), 7.668211811346654e-06)\n"
     ]
    }
   ],
   "source": [
    "tm = TrigramModel()\n",
    "tm.train(words)\n",
    "\n",
    "matches = tm.predict_next_word(\"I think that you are a great\")\n",
    "print matches[-1]\n",
    "print matches[-2]\n",
    "print matches[-3]\n",
    "print matches[-4]\n",
    "print matches[-5]"
   ]
  },
  {
   "cell_type": "code",
   "execution_count": 4,
   "metadata": {
    "collapsed": false
   },
   "outputs": [
    {
     "name": "stdout",
     "output_type": "stream",
     "text": [
      "((u'Are', u'you', u'not'), 3.834105905673327e-06)\n",
      "((u'Are', u'you', u'a'), 3.834105905673327e-06)\n",
      "((u'Are', u'you', u'through'), 3.834105905673327e-06)\n"
     ]
    }
   ],
   "source": [
    "matches = tm.predict_next_word(\"Are you\")\n",
    "print matches[-1]\n",
    "print matches[-2]\n",
    "print matches[-3]"
   ]
  },
  {
   "cell_type": "code",
   "execution_count": 5,
   "metadata": {
    "collapsed": false
   },
   "outputs": [
    {
     "data": {
      "text/plain": [
       "u'I think that you can at the old chest , and the most part'"
      ]
     },
     "execution_count": 5,
     "metadata": {},
     "output_type": "execute_result"
    }
   ],
   "source": [
    "bm = BigramModel()\n",
    "bm.train(words)\n",
    "\n",
    "bm.predict_words(\"I think that you\", 10)"
   ]
  },
  {
   "cell_type": "code",
   "execution_count": 10,
   "metadata": {
    "collapsed": false
   },
   "outputs": [
    {
     "data": {
      "text/plain": [
       "u\"I think that you must kill all his faculties ; but I ' ll\""
      ]
     },
     "execution_count": 10,
     "metadata": {},
     "output_type": "execute_result"
    }
   ],
   "source": [
    "tm = TrigramModel()\n",
    "tm.train(words)\n",
    "\n",
    "tm.predict_words(\"I think that you\", 10)"
   ]
  },
  {
   "cell_type": "code",
   "execution_count": 9,
   "metadata": {
    "collapsed": false
   },
   "outputs": [
    {
     "data": {
      "text/plain": [
       "u'I think that you really perceived drops of moisture in the spout , whether'"
      ]
     },
     "execution_count": 9,
     "metadata": {},
     "output_type": "execute_result"
    }
   ],
   "source": [
    "fm = NgramModel(4)\n",
    "fm.train(words)\n",
    "\n",
    "fm.predict_words(\"I think that you\", 10)"
   ]
  },
  {
   "cell_type": "code",
   "execution_count": 2,
   "metadata": {
    "collapsed": false
   },
   "outputs": [
    {
     "name": "stdout",
     "output_type": "stream",
     "text": [
      "There is no likely ngram with these last words. Try some smoothing methods.\n",
      "There is no likely ngram with these last words. Try some smoothing methods.\n",
      "There is no likely ngram with these last words. Try some smoothing methods.\n",
      "There is no likely ngram with these last words. Try some smoothing methods.\n",
      "There is no likely ngram with these last words. Try some smoothing methods.\n",
      "There is no likely ngram with these last words. Try some smoothing methods.\n",
      "There is no likely ngram with these last words. Try some smoothing methods.\n",
      "There is no likely ngram with these last words. Try some smoothing methods.\n",
      "There is no likely ngram with these last words. Try some smoothing methods.\n",
      "There is no likely ngram with these last words. Try some smoothing methods.\n"
     ]
    },
    {
     "data": {
      "text/plain": [
       "'I think that you'"
      ]
     },
     "execution_count": 2,
     "metadata": {},
     "output_type": "execute_result"
    }
   ],
   "source": [
    "fm = NgramModel(5)\n",
    "fm.train(words)\n",
    "\n",
    "fm.predict_words(\"I think that you\", 10)"
   ]
  },
  {
   "cell_type": "code",
   "execution_count": 2,
   "metadata": {
    "collapsed": false
   },
   "outputs": [
    {
     "name": "stdout",
     "output_type": "stream",
     "text": [
      "<MLEProbDist based on 260815 samples>\n",
      "<FreqDist with 257719 samples and 260815 outcomes>\n",
      "<WittenBellProbDist based on 260815 samples>\n",
      "There is no likely ngram with these last words. Try some smoothing methods.\n",
      "There is no likely ngram with these last words. Try some smoothing methods.\n",
      "There is no likely ngram with these last words. Try some smoothing methods.\n",
      "There is no likely ngram with these last words. Try some smoothing methods.\n",
      "There is no likely ngram with these last words. Try some smoothing methods.\n",
      "There is no likely ngram with these last words. Try some smoothing methods.\n",
      "There is no likely ngram with these last words. Try some smoothing methods.\n",
      "There is no likely ngram with these last words. Try some smoothing methods.\n",
      "There is no likely ngram with these last words. Try some smoothing methods.\n",
      "There is no likely ngram with these last words. Try some smoothing methods.\n"
     ]
    },
    {
     "name": "stderr",
     "output_type": "stream",
     "text": [
      "/usr/local/lib/python2.7/dist-packages/nltk/compat.py:645: RuntimeWarning: Argument <type 'str'> is not an unicode object. Passing an encoded string will likely have unexpected results.\n",
      "  return transliterate(method(self))\n"
     ]
    },
    {
     "data": {
      "text/plain": [
       "'I think that you'"
      ]
     },
     "execution_count": 2,
     "metadata": {},
     "output_type": "execute_result"
    }
   ],
   "source": [
    "fm = NgramModel(5)\n",
    "fm.train(words)\n",
    "fm.smooth(\"WittenBellProbDist\", fm.frequencies, fm.frequencies.B() + 1)\n",
    "\n",
    "fm.predict_words(\"I think that you\", 10)"
   ]
  },
  {
   "cell_type": "code",
   "execution_count": null,
   "metadata": {
    "collapsed": true
   },
   "outputs": [],
   "source": []
  }
 ],
 "metadata": {
  "kernelspec": {
   "display_name": "Python 2",
   "language": "python",
   "name": "python2"
  },
  "language_info": {
   "codemirror_mode": {
    "name": "ipython",
    "version": 2
   },
   "file_extension": ".py",
   "mimetype": "text/x-python",
   "name": "python",
   "nbconvert_exporter": "python",
   "pygments_lexer": "ipython2",
   "version": "2.7.9"
  }
 },
 "nbformat": 4,
 "nbformat_minor": 0
}
