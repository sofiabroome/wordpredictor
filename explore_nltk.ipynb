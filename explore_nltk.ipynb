{
 "cells": [
  {
   "cell_type": "markdown",
   "metadata": {},
   "source": [
    "# Getting to know some methods in the nltk.book-corpus"
   ]
  },
  {
   "cell_type": "code",
   "execution_count": 52,
   "metadata": {
    "collapsed": false
   },
   "outputs": [],
   "source": [
    "import nltk\n",
    "from nltk.book import *\n",
    "from __future__ import division"
   ]
  },
  {
   "cell_type": "code",
   "execution_count": 14,
   "metadata": {
    "collapsed": false
   },
   "outputs": [
    {
     "ename": "NameError",
     "evalue": "name 'text1' is not defined",
     "output_type": "error",
     "traceback": [
      "\u001b[0;31m---------------------------------------------------------------------------\u001b[0m",
      "\u001b[0;31mNameError\u001b[0m                                 Traceback (most recent call last)",
      "\u001b[0;32m<ipython-input-14-2693d6064c92>\u001b[0m in \u001b[0;36m<module>\u001b[0;34m()\u001b[0m\n\u001b[0;32m----> 1\u001b[0;31m \u001b[0mtext1\u001b[0m\u001b[0;34m\u001b[0m\u001b[0m\n\u001b[0m\u001b[1;32m      2\u001b[0m \u001b[0mtext1\u001b[0m\u001b[0;34m.\u001b[0m\u001b[0mdispersion_plot\u001b[0m\u001b[0;34m(\u001b[0m\u001b[0;34m[\u001b[0m\u001b[0;34m\"monstruous\"\u001b[0m\u001b[0;34m,\u001b[0m \u001b[0;34m\"whale\"\u001b[0m\u001b[0;34m,\u001b[0m \u001b[0;34m\"love\"\u001b[0m\u001b[0;34m,\u001b[0m \u001b[0;34m\"anchor\"\u001b[0m\u001b[0;34m]\u001b[0m\u001b[0;34m)\u001b[0m\u001b[0;34m\u001b[0m\u001b[0m\n",
      "\u001b[0;31mNameError\u001b[0m: name 'text1' is not defined"
     ]
    }
   ],
   "source": [
    "text1\n",
    "text1.dispersion_plot([\"monstruous\", \"whale\", \"love\", \"anchor\"])"
   ]
  },
  {
   "cell_type": "code",
   "execution_count": 40,
   "metadata": {
    "collapsed": false
   },
   "outputs": [
    {
     "data": {
      "text/plain": [
       "260819"
      ]
     },
     "execution_count": 40,
     "metadata": {},
     "output_type": "execute_result"
    }
   ],
   "source": [
    "nrOfTypes = len(text1)\n",
    "nrOfTypes"
   ]
  },
  {
   "cell_type": "code",
   "execution_count": 13,
   "metadata": {
    "collapsed": false
   },
   "outputs": [
    {
     "data": {
      "text/plain": [
       "19317"
      ]
     },
     "execution_count": 13,
     "metadata": {},
     "output_type": "execute_result"
    }
   ],
   "source": [
    "unique_types = len(set(text1))\n",
    "unique_types"
   ]
  },
  {
   "cell_type": "code",
   "execution_count": 41,
   "metadata": {
    "collapsed": false
   },
   "outputs": [
    {
     "data": {
      "text/plain": [
       "0.07406285585022564"
      ]
     },
     "execution_count": 41,
     "metadata": {},
     "output_type": "execute_result"
    }
   ],
   "source": [
    "richness = unique_types/nrOfTypes\n",
    "richness"
   ]
  },
  {
   "cell_type": "code",
   "execution_count": 38,
   "metadata": {
    "collapsed": false
   },
   "outputs": [
    {
     "data": {
      "text/plain": [
       "['After',\n",
       " 'all',\n",
       " 'and',\n",
       " 'done',\n",
       " 'is',\n",
       " 'more',\n",
       " 'said',\n",
       " 'than',\n",
       " 'more',\n",
       " 'said',\n",
       " 'than']"
      ]
     },
     "execution_count": 38,
     "metadata": {},
     "output_type": "execute_result"
    }
   ],
   "source": [
    "saying = ['After', 'all', 'is', 'said', 'and', 'done', 'more', 'is', 'said', 'than', 'done']\n",
    "tokens = set(saying)\n",
    "tokens = sorted(tokens)\n",
    "tokens + tokens[-3:]"
   ]
  },
  {
   "cell_type": "code",
   "execution_count": 4,
   "metadata": {
    "collapsed": false
   },
   "outputs": [
    {
     "data": {
      "text/plain": [
       "[u'a_and_c.xml',\n",
       " u'dream.xml',\n",
       " u'hamlet.xml',\n",
       " u'j_caesar.xml',\n",
       " u'macbeth.xml',\n",
       " u'merchant.xml',\n",
       " u'othello.xml',\n",
       " u'r_and_j.xml']"
      ]
     },
     "execution_count": 4,
     "metadata": {},
     "output_type": "execute_result"
    }
   ],
   "source": [
    "from nltk.corpus import shakespeare\n",
    "shakespeare.fileids()"
   ]
  },
  {
   "cell_type": "code",
   "execution_count": 49,
   "metadata": {
    "collapsed": false
   },
   "outputs": [
    {
     "data": {
      "text/plain": [
       "22977"
      ]
     },
     "execution_count": 49,
     "metadata": {},
     "output_type": "execute_result"
    }
   ],
   "source": [
    "macbeth_words = shakespeare.words('macbeth.xml')\n",
    "macbeth_words\n",
    "len(macbeth_words)"
   ]
  },
  {
   "cell_type": "code",
   "execution_count": 57,
   "metadata": {
    "collapsed": false
   },
   "outputs": [
    {
     "data": {
      "text/plain": [
       "[('m', 'a'),\n",
       " ('a', 'c'),\n",
       " ('c', 'b'),\n",
       " ('b', 'e'),\n",
       " ('e', 't'),\n",
       " ('t', 'h'),\n",
       " ('h', '.'),\n",
       " ('.', 'x'),\n",
       " ('x', 'm'),\n",
       " ('m', 'l')]"
      ]
     },
     "execution_count": 57,
     "metadata": {},
     "output_type": "execute_result"
    }
   ],
   "source": [
    "macbethtext = nltk.Text('macbeth.xml')\n",
    "macbethbigrams = nltk.bigrams(macbethtext)\n",
    "list(macbethbigrams)"
   ]
  },
  {
   "cell_type": "markdown",
   "metadata": {},
   "source": [
    "### POS-tags / grammar"
   ]
  },
  {
   "cell_type": "markdown",
   "metadata": {},
   "source": [
    "Alphabetical listing, from the 'universal'-tagset (http://universaldependencies.github.io/docs/u/pos/)\n",
    "\n",
    "ADJ: adjective\n",
    "\n",
    "ADP: adposition\n",
    "\n",
    "ADV: adverb\n",
    "\n",
    "AUX: auxiliary verb\n",
    "\n",
    "CONJ: coordinating conjunction\n",
    "\n",
    "DET: determiner\n",
    "\n",
    "INTJ: interjection\n",
    "\n",
    "NOUN: noun\n",
    "\n",
    "NUM: numeral\n",
    "\n",
    "PART: particle\n",
    "\n",
    "PRON: pronoun\n",
    "\n",
    "PROPN: proper noun\n",
    "\n",
    "PUNCT: punctuation\n",
    "\n",
    "SCONJ: subordinating conjunction\n",
    "\n",
    "SYM: symbol\n",
    "\n",
    "VERB: verb\n",
    "\n",
    "X: other"
   ]
  },
  {
   "cell_type": "code",
   "execution_count": 5,
   "metadata": {
    "collapsed": false
   },
   "outputs": [
    {
     "data": {
      "text/plain": [
       "[(u'NOUN', 13503),\n",
       " (u'VERB', 12299),\n",
       " (u'.', 10170),\n",
       " (u'DET', 8018),\n",
       " (u'ADP', 7198),\n",
       " (u'PRON', 4799),\n",
       " (u'ADV', 3716),\n",
       " (u'ADJ', 3684),\n",
       " (u'PRT', 2305),\n",
       " (u'CONJ', 2261),\n",
       " (u'NUM', 446),\n",
       " (u'X', 89)]"
      ]
     },
     "execution_count": 5,
     "metadata": {},
     "output_type": "execute_result"
    }
   ],
   "source": [
    "import nltk, numpy, matplotlib\n",
    "%matplotlib inline\n",
    "from nltk.corpus import brown\n",
    "brown_fiction_tagged = brown.tagged_words(categories='fiction', tagset='universal')\n",
    "tag_fd = nltk.FreqDist(tag for (word, tag) in brown_fiction_tagged)\n",
    "tag_fd.most_common()"
   ]
  },
  {
   "cell_type": "markdown",
   "metadata": {},
   "source": [
    "plots the above frequence distribution:"
   ]
  },
  {
   "cell_type": "code",
   "execution_count": 4,
   "metadata": {
    "collapsed": false
   },
   "outputs": [
    {
     "data": {
      "image/png": "[encoded data removed]",
      "text/plain": [
       "<matplotlib.figure.Figure at 0x10bd88e90>"
      ]
     },
     "metadata": {},
     "output_type": "display_data"
    },
    {
     "data": {
      "image/png": "[encoded data removed]",
      "text/plain": [
       "<matplotlib.figure.Figure at 0x10c0baf90>"
      ]
     },
     "metadata": {},
     "output_type": "display_data"
    }
   ],
   "source": [
    "tag_fd.plot(cumulative=True)\n",
    "tag_fd.plot()"
   ]
  },
  {
   "cell_type": "code",
   "execution_count": 11,
   "metadata": {
    "collapsed": false
   },
   "outputs": [
    {
     "data": {
      "image/png": "[encoded data removed]",
      "text/plain": [
       "<matplotlib.figure.Figure at 0x10c7a8d10>"
      ]
     },
     "metadata": {},
     "output_type": "display_data"
    },
    {
     "data": {
      "image/png": "[encoded data removed]",
      "text/plain": [
       "<matplotlib.figure.Figure at 0x10bdbb0d0>"
      ]
     },
     "metadata": {},
     "output_type": "display_data"
    },
    {
     "name": "stdout",
     "output_type": "stream",
     "text": [
      "not enough data? although 10 000 verbs vs 13000 nouns, not a huge difference?\n"
     ]
    },
    {
     "data": {
      "image/png": "[encoded data removed]",
      "text/plain": [
       "<matplotlib.figure.Figure at 0x10c790310>"
      ]
     },
     "metadata": {},
     "output_type": "display_data"
    }
   ],
   "source": [
    "word_tag_pairs = nltk.bigrams(brown_fiction_tagged)\n",
    "noun_preceders = [a[1] for (a, b) in word_tag_pairs if b[1] == 'NOUN']\n",
    "verb_preceders = [a[1] for (a, b) in word_tag_pairs if b[1] == 'VERB']\n",
    "adjective_preceders = [a[1] for (a, b) in word_tag_pairs if b[1] == 'ADJ']\n",
    "\n",
    "fdist_noun_preceders = nltk.FreqDist(noun_preceders)\n",
    "fdist_verb_preceders = nltk.FreqDist(verb_preceders)\n",
    "fdist_adjective_preceders = nltk.FreqDist(adjective_preceders)\n",
    "\n",
    "fdist_noun_preceders.plot()\n",
    "fdist_verb_preceders.plot()\n",
    "print 'not enough data? although 10 000 verbs vs 13000 nouns, not a huge difference?'\n",
    "fdist_adjective_preceders.plot()"
   ]
  },
  {
   "cell_type": "code",
   "execution_count": 18,
   "metadata": {
    "collapsed": false
   },
   "outputs": [
    {
     "name": "stdout",
     "output_type": "stream",
     "text": [
      "how many words precede often?12\n",
      "VERB CONJ  ADJ  ADP \n",
      "   9    1    1    1 \n",
      " and mistook  had wonder   at re-enacted curious accompanied tempted threw viewed happened \n",
      "   1    1    1    1    1    1    1    1    1    1    1    1 \n"
     ]
    }
   ],
   "source": [
    "tags = [b[1] for (a,b) in nltk.bigrams(brown_fiction_tagged) if a[0] == 'often']\n",
    "words = [b[0] for (a,b) in nltk.bigrams(brown_fiction_tagged) if a[0] == 'often']\n",
    "print 'how many words precede often? ' + str(len(words))\n",
    "fd = nltk.FreqDist(tags)\n",
    "fdw = nltk.FreqDist(words)\n",
    "fd.tabulate()\n",
    "fdw.tabulate()"
   ]
  },
  {
   "cell_type": "code",
   "execution_count": null,
   "metadata": {
    "collapsed": true
   },
   "outputs": [],
   "source": []
  }
 ],
 "metadata": {
  "kernelspec": {
   "display_name": "Python 2",
   "language": "python",
   "name": "python2"
  },
  "language_info": {
   "codemirror_mode": {
    "name": "ipython",
    "version": 2
   },
   "file_extension": ".py",
   "mimetype": "text/x-python",
   "name": "python",
   "nbconvert_exporter": "python",
   "pygments_lexer": "ipython2",
   "version": "2.7.10"
  }
 },
 "nbformat": 4,
 "nbformat_minor": 0
}
