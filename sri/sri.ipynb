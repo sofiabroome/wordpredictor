{
 "cells": [
  {
   "cell_type": "code",
   "execution_count": 2,
   "metadata": {
    "collapsed": true
   },
   "outputs": [],
   "source": [
    "import nltk\n",
    "from nltk.corpus import gutenberg"
   ]
  },
  {
   "cell_type": "code",
   "execution_count": 3,
   "metadata": {
    "collapsed": true
   },
   "outputs": [],
   "source": [
    "words = nltk.corpus.gutenberg.words('melville-moby_dick.txt')\n",
    "sents = nltk.corpus.gutenberg.sents()"
   ]
  },
  {
   "cell_type": "code",
   "execution_count": 4,
   "metadata": {
    "collapsed": false
   },
   "outputs": [
    {
     "data": {
      "text/plain": [
       "[[u'[', u'Moby', u'Dick', u'by', u'Herman', u'Melville', u'1851', u']'], [u'ETYMOLOGY', u'.'], ...]"
      ]
     },
     "execution_count": 4,
     "metadata": {},
     "output_type": "execute_result"
    }
   ],
   "source": [
    "gutenberg.sents(fileids='melville-moby_dick.txt')"
   ]
  },
  {
   "cell_type": "code",
   "execution_count": 34,
   "metadata": {
    "collapsed": false
   },
   "outputs": [
    {
     "ename": "ImportError",
     "evalue": "dlopen(pysrilm/srilm.so, 2): Symbol not found: _gzvprintf\n  Referenced from: pysrilm/srilm.so\n  Expected in: /usr/lib/libz.1.dylib\n",
     "output_type": "error",
     "traceback": [
      "\u001b[0;31m---------------------------------------------------------------------------\u001b[0m",
      "\u001b[0;31mImportError\u001b[0m                               Traceback (most recent call last)",
      "\u001b[0;32m<ipython-input-34-3eeb31836e8f>\u001b[0m in \u001b[0;36m<module>\u001b[0;34m()\u001b[0m\n\u001b[1;32m      1\u001b[0m \u001b[0;31m# dependency hell, try something else\u001b[0m\u001b[0;34m\u001b[0m\u001b[0;34m\u001b[0m\u001b[0m\n\u001b[0;32m----> 2\u001b[0;31m \u001b[0;32mimport\u001b[0m \u001b[0mpysrilm\u001b[0m\u001b[0;34m.\u001b[0m\u001b[0msrilm\u001b[0m\u001b[0;34m\u001b[0m\u001b[0m\n\u001b[0m",
      "\u001b[0;31mImportError\u001b[0m: dlopen(pysrilm/srilm.so, 2): Symbol not found: _gzvprintf\n  Referenced from: pysrilm/srilm.so\n  Expected in: /usr/lib/libz.1.dylib\n"
     ]
    }
   ],
   "source": [
    "# dependency hell, try something else\n",
    "import pysrilm.srilm"
   ]
  },
  {
   "cell_type": "markdown",
   "metadata": {},
   "source": [
    "  "
   ]
  },
  {
   "cell_type": "markdown",
   "metadata": {},
   "source": [
    "moby dick w smoothing"
   ]
  },
  {
   "cell_type": "code",
   "execution_count": 9,
   "metadata": {
    "collapsed": false
   },
   "outputs": [
    {
     "name": "stdout",
     "output_type": "stream",
     "text": [
      "warning: discount coeff 1 is out of range: 0\r\n"
     ]
    }
   ],
   "source": [
    "!ngram-count -text ~/nltk_data/corpora/gutenberg/melville-moby_dick.txt -lm model.LM -order 3 -write model.NGRAM"
   ]
  },
  {
   "cell_type": "code",
   "execution_count": 17,
   "metadata": {
    "collapsed": false
   },
   "outputs": [
    {
     "name": "stdout",
     "output_type": "stream",
     "text": [
      "this is a sentence\r\n",
      "The big white whale arrived late.\r\n"
     ]
    }
   ],
   "source": [
    "!cat input.sent"
   ]
  },
  {
   "cell_type": "code",
   "execution_count": 11,
   "metadata": {
    "collapsed": false
   },
   "outputs": [
    {
     "name": "stdout",
     "output_type": "stream",
     "text": [
      "reading 33267 1-grams\n",
      "reading 137300 2-grams\n",
      "reading 9325 3-grams\n",
      "this is a sentence\n",
      "1 sentences, 4 words, 1 OOVs\n",
      "0 zeroprobs, logprob= -5.83855 ppl= 28.8162 ppl1= 88.345\n",
      "\n",
      "The big white whale arrived late.\n",
      "1 sentences, 6 words, 0 OOVs\n",
      "0 zeroprobs, logprob= -20.6644 ppl= 895.472 ppl1= 2780.1\n",
      "\n",
      "file input.sent: 2 sentences, 10 words, 1 OOVs\n",
      "0 zeroprobs, logprob= -26.5029 ppl= 256.659 ppl1= 880.578\n"
     ]
    }
   ],
   "source": [
    "!ngram -order 3 -lm model.LM -ppl input.sent -debug 1"
   ]
  },
  {
   "cell_type": "code",
   "execution_count": 20,
   "metadata": {
    "collapsed": false
   },
   "outputs": [
    {
     "name": "stdout",
     "output_type": "stream",
     "text": [
      "reading 33267 1-grams\n",
      "reading 137300 2-grams\n",
      "reading 9325 3-grams\n",
      "this is a sentence\n",
      "\tp( this | <s> ) \t= [2gram] 0.00376571 [ -2.42415 ]\n",
      "\tp( is | this ...) \t= [3gram] 0.044402 [ -1.3526 ]\n",
      "\tp( a | is ...) \t= [3gram] 0.102261 [ -0.990291 ]\n",
      "\tp( <unk> | a ...) \t= [OOV] 0 [ -inf ]\n",
      "\tp( </s> | <unk> ...) \t= [1gram] 0.0848192 [ -1.07151 ]\n",
      "1 sentences, 4 words, 1 OOVs\n",
      "0 zeroprobs, logprob= -5.83855 ppl= 28.8162 ppl1= 88.345\n",
      "\n",
      "The big white whale arrived late.\n",
      "\tp( The | <s> ) \t= [2gram] 0.0107374 [ -1.9691 ]\n",
      "\tp( big | The ...) \t= [1gram] 3.90685e-05 [ -4.40817 ]\n",
      "\tp( white | big ...) \t= [2gram] 0.0140872 [ -1.85117 ]\n",
      "\tp( whale | white ...) \t= [2gram] 0.1 [ -1 ]\n",
      "\tp( arrived | whale ...) \t= [1gram] 2.42862e-05 [ -4.61464 ]\n",
      "\tp( late. | arrived ...) \t= [1gram] 2.14044e-06 [ -5.6695 ]\n",
      "\tp( </s> | late. ...) \t= [1gram] 0.0705054 [ -1.15178 ]\n",
      "1 sentences, 6 words, 0 OOVs\n",
      "0 zeroprobs, logprob= -20.6644 ppl= 895.472 ppl1= 2780.1\n",
      "\n",
      "file input.sent: 2 sentences, 10 words, 1 OOVs\n",
      "0 zeroprobs, logprob= -26.5029 ppl= 256.659 ppl1= 880.578\n"
     ]
    }
   ],
   "source": [
    "!ngram -order 3 -lm model.LM -ppl input.sent -debug 2"
   ]
  },
  {
   "cell_type": "code",
   "execution_count": null,
   "metadata": {
    "collapsed": true
   },
   "outputs": [],
   "source": []
  },
  {
   "cell_type": "code",
   "execution_count": null,
   "metadata": {
    "collapsed": true
   },
   "outputs": [],
   "source": []
  },
  {
   "cell_type": "code",
   "execution_count": null,
   "metadata": {
    "collapsed": true
   },
   "outputs": [],
   "source": []
  },
  {
   "cell_type": "code",
   "execution_count": null,
   "metadata": {
    "collapsed": true
   },
   "outputs": [],
   "source": []
  },
  {
   "cell_type": "code",
   "execution_count": null,
   "metadata": {
    "collapsed": true
   },
   "outputs": [],
   "source": []
  },
  {
   "cell_type": "code",
   "execution_count": null,
   "metadata": {
    "collapsed": true
   },
   "outputs": [],
   "source": []
  },
  {
   "cell_type": "code",
   "execution_count": null,
   "metadata": {
    "collapsed": true
   },
   "outputs": [],
   "source": []
  }
 ],
 "metadata": {
  "kernelspec": {
   "display_name": "Python 2",
   "language": "python",
   "name": "python2"
  },
  "language_info": {
   "codemirror_mode": {
    "name": "ipython",
    "version": 2
   },
   "file_extension": ".py",
   "mimetype": "text/x-python",
   "name": "python",
   "nbconvert_exporter": "python",
   "pygments_lexer": "ipython2",
   "version": "2.7.10"
  }
 },
 "nbformat": 4,
 "nbformat_minor": 0
}
