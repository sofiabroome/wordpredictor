{
 "cells": [
  {
   "cell_type": "code",
   "execution_count": 1,
   "metadata": {
    "collapsed": true
   },
   "outputs": [],
   "source": [
    "from models.bigram_model import BigramModel\n",
    "from models.trigram_model import TrigramModel\n",
    "from models.ngram_model import NgramModel\n",
    "from models.GrammarModel import GrammarModel\n",
    "import nltk"
   ]
  },
  {
   "cell_type": "code",
   "execution_count": 2,
   "metadata": {
    "collapsed": false
   },
   "outputs": [
    {
     "name": "stdout",
     "output_type": "stream",
     "text": [
      "<MLEProbDist based on 1161189 samples>\n"
     ]
    }
   ],
   "source": [
    "g = GrammarModel()\n",
    "g.train(nltk.corpus.brown.tagged_words(tagset='universal'),tagged=True)\n",
    "t = TrigramModel()\n",
    "t.train(nltk.corpus.brown.words())"
   ]
  },
  {
   "cell_type": "code",
   "execution_count": 3,
   "metadata": {
    "collapsed": false
   },
   "outputs": [
    {
     "name": "stdout",
     "output_type": "stream",
     "text": [
      "Sans grammaire\n",
      "((u'for', u'something', u'.'), 2.5835565239108154e-06)\n",
      "((u'for', u'something', u'.'), 2.5835565239108154e-06)\n",
      "((u'for', u'something', u'.'), 2.5835565239108154e-06)\n",
      "((u'for', u'something', u'other'), 8.611855079702719e-07)\n",
      "((u'for', u'something', u'that'), 8.611855079702719e-07)\n",
      "((u'for', u'something', u'if'), 8.611855079702719e-07)\n",
      "((u'for', u'something', u'or'), 8.611855079702719e-07)\n",
      "((u'for', u'something', u'explosive'), 8.611855079702719e-07)\n",
      "((u'for', u'something', u'he'), 8.611855079702719e-07)\n",
      "((u'for', u'something', u'stable'), 8.611855079702719e-07)\n",
      "((u'for', u'something', u'exciting'), 8.611855079702719e-07)\n",
      "Avec grammaire\n",
      "[(u'for', u'something', u'he'), 0.0003874467260751646]\n",
      "[(u'for', u'something', u'or'), 0.05075552111584656]\n",
      "[(u'for', u'something', u'explosive'), 0.006586594343277798]\n",
      "[(u'for', u'something', u'stable'), 0.11352189074002322]\n",
      "[(u'for', u'something', u'if'), 0.12437039907012785]\n",
      "[(u'for', u'something', u'exciting'), 0.06431615652847732]\n",
      "[(u'for', u'something', u'that'), 0.009298721425803949]\n",
      "[(u'for', u'something', u'.'), 0.6241766757070902]\n",
      "[(u'for', u'something', u'other'), 0.006586594343277798]\n"
     ]
    }
   ],
   "source": [
    "query_string = \"And now for something\"\n",
    "matches = t.predict_next_word(query_string)\n",
    "print \"Sans grammaire\"\n",
    "for i in range(len(matches)):\n",
    "    print matches[-(i+1)]\n",
    "better = g.predict_next_word(t,query_string)\n",
    "print \"Avec grammaire\"\n",
    "for i in range(len(better)):\n",
    "    print better[-(i+1)]"
   ]
  },
  {
   "cell_type": "code",
   "execution_count": 4,
   "metadata": {
    "collapsed": false
   },
   "outputs": [
    {
     "name": "stdout",
     "output_type": "stream",
     "text": [
      "Sans grammaire\n",
      "((u'was', u'really', u'a'), 1.7223710159405437e-06)\n",
      "((u'was', u'really', u'a'), 1.7223710159405437e-06)\n",
      "((u'was', u'really', u'no'), 1.7223710159405437e-06)\n",
      "((u'was', u'really', u'no'), 1.7223710159405437e-06)\n",
      "((u'was', u'really', u'piling'), 8.611855079702719e-07)\n",
      "((u'was', u'really', u'upset'), 8.611855079702719e-07)\n",
      "((u'was', u'really', u'frightening'), 8.611855079702719e-07)\n",
      "((u'was', u'really', u'quite'), 8.611855079702719e-07)\n",
      "((u'was', u'really', u'contrite'), 8.611855079702719e-07)\n",
      "((u'was', u'really', u'what'), 8.611855079702719e-07)\n",
      "((u'was', u'really', u'grateful'), 8.611855079702719e-07)\n",
      "((u'was', u'really', u'beside'), 8.611855079702719e-07)\n",
      "((u'was', u'really', u'amazed'), 8.611855079702719e-07)\n",
      "((u'was', u'really', u'something'), 8.611855079702719e-07)\n",
      "((u'was', u'really', u'responsible'), 8.611855079702719e-07)\n",
      "((u'was', u'really', u'interested'), 8.611855079702719e-07)\n",
      "((u'was', u'really', u'just'), 8.611855079702719e-07)\n",
      "((u'was', u'really', u'an'), 8.611855079702719e-07)\n",
      "((u'was', u'really', u'beautiful'), 8.611855079702719e-07)\n",
      "Avec grammaire\n",
      "[(u'was', u'really', u'just'), 0.042336371168185574]\n",
      "[(u'was', u'really', u'quite'), 0.042336371168185574]\n",
      "[(u'was', u'really', u'contrite'), 0.04556752278376139]\n",
      "[(u'was', u'really', u'a'), 0.049212924606462295]\n",
      "[(u'was', u'really', u'something'), 0.007870753935376966]\n",
      "[(u'was', u'really', u'frightening'), 0.16677713338856667]\n",
      "[(u'was', u'really', u'responsible'), 0.0556752278376139]\n",
      "[(u'was', u'really', u'beside'), 0.007870753935376966]\n",
      "[(u'was', u'really', u'grateful'), 0.0556752278376139]\n",
      "[(u'was', u'really', u'interested'), 0.0556752278376139]\n",
      "[(u'was', u'really', u'no'), 0.049212924606462295]\n",
      "[(u'was', u'really', u'amazed'), 0.16677713338856667]\n",
      "[(u'was', u'really', u'piling'), 0.16677713338856667]\n",
      "[(u'was', u'really', u'upset'), 0.007870753935376966]\n",
      "[(u'was', u'really', u'what'), 8.28500414250207e-05]\n",
      "[(u'was', u'really', u'beautiful'), 0.0556752278376139]\n",
      "[(u'was', u'really', u'an'), 0.024606462303231148]\n"
     ]
    }
   ],
   "source": [
    "query_string = \"It was really\"\n",
    "matches = t.predict_next_word(query_string)\n",
    "better = g.predict_next_word(t,query_string)\n",
    "print \"Sans grammaire\"\n",
    "for i in range(len(matches)):\n",
    "    print matches[-(i+1)]\n",
    "print \"Avec grammaire\"\n",
    "for i in range(len(better)):\n",
    "    print better[-(i+1)]"
   ]
  },
  {
   "cell_type": "code",
   "execution_count": 5,
   "metadata": {
    "collapsed": false
   },
   "outputs": [
    {
     "name": "stdout",
     "output_type": "stream",
     "text": [
      "<MLEProbDist based on 100550 samples>\n"
     ]
    }
   ],
   "source": [
    "h = GrammarModel(n=5)\n",
    "h.train(nltk.corpus.brown.words(categories='news'))"
   ]
  },
  {
   "cell_type": "code",
   "execution_count": 6,
   "metadata": {
    "collapsed": false
   },
   "outputs": [
    {
     "name": "stdout",
     "output_type": "stream",
     "text": [
      "Avec grammaire\n",
      "[(u'for', u'something', u'he'), 0.0]\n",
      "[(u'for', u'something', u'or'), 0.0]\n",
      "[(u'for', u'something', u'explosive'), 0.0]\n",
      "[(u'for', u'something', u'stable'), 0.3333333333333333]\n",
      "[(u'for', u'something', u'if'), 0.0]\n",
      "[(u'for', u'something', u'exciting'), 0.16666666666666666]\n",
      "[(u'for', u'something', u'that'), 0.0]\n",
      "[(u'for', u'something', u'.'), 0.49999999999999994]\n",
      "[(u'for', u'something', u'other'), 0.0]\n"
     ]
    }
   ],
   "source": [
    "query_string = \"And now for something\"\n",
    "beter = h.predict_next_word(t,query_string)\n",
    "print \"Avec grammaire\"\n",
    "for i in range(len(beter)):\n",
    "    print beter[-(i+1)]"
   ]
  },
  {
   "cell_type": "code",
   "execution_count": null,
   "metadata": {
    "collapsed": false
   },
   "outputs": [],
   "source": [
    "g.predict_words(t,query_string)\n",
    "h.predict_words(t,query_string)"
   ]
  }
 ],
 "metadata": {
  "kernelspec": {
   "display_name": "Python 2",
   "language": "python",
   "name": "python2"
  },
  "language_info": {
   "codemirror_mode": {
    "name": "ipython",
    "version": 2
   },
   "file_extension": ".py",
   "mimetype": "text/x-python",
   "name": "python",
   "nbconvert_exporter": "python",
   "pygments_lexer": "ipython2",
   "version": "2.7.10"
  }
 },
 "nbformat": 4,
 "nbformat_minor": 0
}
