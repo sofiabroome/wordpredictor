{
 "cells": [
  {
   "cell_type": "markdown",
   "metadata": {},
   "source": [
    "# Getting to know some methods in the nltk.book-corpus"
   ]
  },
  {
   "cell_type": "code",
   "execution_count": 52,
   "metadata": {
    "collapsed": false
   },
   "outputs": [],
   "source": [
    "import nltk\n",
    "from nltk.book import *\n",
    "from __future__ import division"
   ]
  },
  {
   "cell_type": "code",
   "execution_count": 3,
   "metadata": {
    "collapsed": true
   },
   "outputs": [],
   "source": [
    "text1.dispersion_plot([\"monstruous\", \"whale\", \"love\", \"anchor\"])"
   ]
  },
  {
   "cell_type": "code",
   "execution_count": 40,
   "metadata": {
    "collapsed": false
   },
   "outputs": [
    {
     "data": {
      "text/plain": [
       "260819"
      ]
     },
     "execution_count": 40,
     "metadata": {},
     "output_type": "execute_result"
    }
   ],
   "source": [
    "nrOfTypes = len(text1)\n",
    "nrOfTypes"
   ]
  },
  {
   "cell_type": "code",
   "execution_count": 13,
   "metadata": {
    "collapsed": false
   },
   "outputs": [
    {
     "data": {
      "text/plain": [
       "19317"
      ]
     },
     "execution_count": 13,
     "metadata": {},
     "output_type": "execute_result"
    }
   ],
   "source": [
    "unique_types = len(set(text1))\n",
    "unique_types"
   ]
  },
  {
   "cell_type": "code",
   "execution_count": 41,
   "metadata": {
    "collapsed": false
   },
   "outputs": [
    {
     "data": {
      "text/plain": [
       "0.07406285585022564"
      ]
     },
     "execution_count": 41,
     "metadata": {},
     "output_type": "execute_result"
    }
   ],
   "source": [
    "richness = unique_types/nrOfTypes\n",
    "richness"
   ]
  },
  {
   "cell_type": "code",
   "execution_count": 38,
   "metadata": {
    "collapsed": false
   },
   "outputs": [
    {
     "data": {
      "text/plain": [
       "['After',\n",
       " 'all',\n",
       " 'and',\n",
       " 'done',\n",
       " 'is',\n",
       " 'more',\n",
       " 'said',\n",
       " 'than',\n",
       " 'more',\n",
       " 'said',\n",
       " 'than']"
      ]
     },
     "execution_count": 38,
     "metadata": {},
     "output_type": "execute_result"
    }
   ],
   "source": [
    "saying = ['After', 'all', 'is', 'said', 'and', 'done', 'more', 'is', 'said', 'than', 'done']\n",
    "tokens = set(saying)\n",
    "tokens = sorted(tokens)\n",
    "tokens + tokens[-3:]"
   ]
  },
  {
   "cell_type": "code",
   "execution_count": 4,
   "metadata": {
    "collapsed": false
   },
   "outputs": [
    {
     "data": {
      "text/plain": [
       "[u'a_and_c.xml',\n",
       " u'dream.xml',\n",
       " u'hamlet.xml',\n",
       " u'j_caesar.xml',\n",
       " u'macbeth.xml',\n",
       " u'merchant.xml',\n",
       " u'othello.xml',\n",
       " u'r_and_j.xml']"
      ]
     },
     "execution_count": 4,
     "metadata": {},
     "output_type": "execute_result"
    }
   ],
   "source": [
    "from nltk.corpus import shakespeare\n",
    "shakespeare.fileids()"
   ]
  },
  {
   "cell_type": "code",
   "execution_count": 49,
   "metadata": {
    "collapsed": false
   },
   "outputs": [
    {
     "data": {
      "text/plain": [
       "22977"
      ]
     },
     "execution_count": 49,
     "metadata": {},
     "output_type": "execute_result"
    }
   ],
   "source": [
    "macbeth_words = shakespeare.words('macbeth.xml')\n",
    "macbeth_words\n",
    "len(macbeth_words)"
   ]
  },
  {
   "cell_type": "code",
   "execution_count": 57,
   "metadata": {
    "collapsed": false
   },
   "outputs": [
    {
     "data": {
      "text/plain": [
       "[('m', 'a'),\n",
       " ('a', 'c'),\n",
       " ('c', 'b'),\n",
       " ('b', 'e'),\n",
       " ('e', 't'),\n",
       " ('t', 'h'),\n",
       " ('h', '.'),\n",
       " ('.', 'x'),\n",
       " ('x', 'm'),\n",
       " ('m', 'l')]"
      ]
     },
     "execution_count": 57,
     "metadata": {},
     "output_type": "execute_result"
    }
   ],
   "source": [
    "macbethtext = nltk.Text('macbeth.xml')\n",
    "macbethbigrams = nltk.bigrams(macbethtext)\n",
    "list(macbethbigrams)"
   ]
  },
  {
   "cell_type": "markdown",
   "metadata": {},
   "source": [
    "### POS-tags / grammar"
   ]
  },
  {
   "cell_type": "code",
   "execution_count": 2,
   "metadata": {
    "collapsed": false
   },
   "outputs": [
    {
     "data": {
      "text/plain": [
       "[(u'NOUN', 13503),\n",
       " (u'VERB', 12299),\n",
       " (u'.', 10170),\n",
       " (u'DET', 8018),\n",
       " (u'ADP', 7198),\n",
       " (u'PRON', 4799),\n",
       " (u'ADV', 3716),\n",
       " (u'ADJ', 3684),\n",
       " (u'PRT', 2305),\n",
       " (u'CONJ', 2261),\n",
       " (u'NUM', 446),\n",
       " (u'X', 89)]"
      ]
     },
     "execution_count": 2,
     "metadata": {},
     "output_type": "execute_result"
    }
   ],
   "source": [
    "import nltk, numpy, matplotlib\n",
    "%matplotlib inline\n",
    "from nltk.corpus import brown\n",
    "brown_fiction_tagged = brown.tagged_words(categories='fiction', tagset='universal')\n",
    "tag_fd = nltk.FreqDist(tag for (word, tag) in brown_fiction_tagged)\n",
    "tag_fd.most_common()"
   ]
  },
  {
   "cell_type": "markdown",
   "metadata": {},
   "source": [
    "plots the above frequence distribution:"
   ]
  },
  {
   "cell_type": "code",
   "execution_count": 4,
   "metadata": {
    "collapsed": false
   },
   "outputs": [
    {
     "data": {
      "image/png": "[encoded data removed]",
      "text/plain": [
       "<matplotlib.figure.Figure at 0x10bd88e90>"
      ]
     },
     "metadata": {},
     "output_type": "display_data"
    },
    {
     "data": {
      "image/png": "[encoded data removed]",
      "text/plain": [
       "<matplotlib.figure.Figure at 0x10c0baf90>"
      ]
     },
     "metadata": {},
     "output_type": "display_data"
    }
   ],
   "source": [
    "tag_fd.plot(cumulative=True)\n",
    "tag_fd.plot()"
   ]
  },
  {
   "cell_type": "code",
   "execution_count": null,
   "metadata": {
    "collapsed": true
   },
   "outputs": [],
   "source": []
  }
 ],
 "metadata": {
  "kernelspec": {
   "display_name": "Python 2",
   "language": "python",
   "name": "python2"
  },
  "language_info": {
   "codemirror_mode": {
    "name": "ipython",
    "version": 2
   },
   "file_extension": ".py",
   "mimetype": "text/x-python",
   "name": "python",
   "nbconvert_exporter": "python",
   "pygments_lexer": "ipython2",
   "version": "2.7.10"
  }
 },
 "nbformat": 4,
 "nbformat_minor": 0
}
