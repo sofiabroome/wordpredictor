{
 "cells": [
  {
   "cell_type": "code",
   "execution_count": 2,
   "metadata": {
    "collapsed": false
   },
   "outputs": [
    {
     "name": "stdout",
     "output_type": "stream",
     "text": [
      "260819\n",
      "34110\n"
     ]
    }
   ],
   "source": [
    "from models.bigram_model import BigramModel\n",
    "from models.trigram_model import TrigramModel\n",
    "from models.ngram_model import NgramModel\n",
    "\n",
    "from nltk.corpus import gutenberg\n",
    "melville = gutenberg.words('melville-moby_dick.txt')\n",
    "carroll = gutenberg.words('carroll-alice.txt')\n",
    "print len(melville)\n",
    "print len(carroll)"
   ]
  },
  {
   "cell_type": "code",
   "execution_count": 2,
   "metadata": {
    "collapsed": false
   },
   "outputs": [
    {
     "data": {
      "text/plain": [
       "[u'austen-emma.txt',\n",
       " u'austen-persuasion.txt',\n",
       " u'austen-sense.txt',\n",
       " u'bible-kjv.txt',\n",
       " u'blake-poems.txt',\n",
       " u'bryant-stories.txt',\n",
       " u'burgess-busterbrown.txt',\n",
       " u'carroll-alice.txt',\n",
       " u'chesterton-ball.txt',\n",
       " u'chesterton-brown.txt',\n",
       " u'chesterton-thursday.txt',\n",
       " u'edgeworth-parents.txt',\n",
       " u'melville-moby_dick.txt',\n",
       " u'milton-paradise.txt',\n",
       " u'shakespeare-caesar.txt',\n",
       " u'shakespeare-hamlet.txt',\n",
       " u'shakespeare-macbeth.txt',\n",
       " u'whitman-leaves.txt']"
      ]
     },
     "execution_count": 2,
     "metadata": {},
     "output_type": "execute_result"
    }
   ],
   "source": [
    "gutenberg.fileids()"
   ]
  },
  {
   "cell_type": "code",
   "execution_count": 9,
   "metadata": {
    "collapsed": false
   },
   "outputs": [
    {
     "data": {
      "text/plain": [
       "u'I think that you really perceived drops of moisture in the spout , whether'"
      ]
     },
     "execution_count": 9,
     "metadata": {},
     "output_type": "execute_result"
    }
   ],
   "source": [
    "fm = NgramModel(4)\n",
    "fm.train(words)\n",
    "\n",
    "fm.predict_words(\"I think that you\", 10)"
   ]
  },
  {
   "cell_type": "code",
   "execution_count": 3,
   "metadata": {
    "collapsed": false
   },
   "outputs": [],
   "source": [
    "def test_corpora(corpora, query, n):\n",
    "    for k in range(2, 5, 1):\n",
    "        fm = NgramModel(k)\n",
    "        fm.train(corpora)\n",
    "        print \"Result for a\",(str(k)+\"-gram: \"),fm.predict_words(query, n)"
   ]
  },
  {
   "cell_type": "code",
   "execution_count": 16,
   "metadata": {
    "collapsed": false
   },
   "outputs": [
    {
     "name": "stdout",
     "output_type": "stream",
     "text": [
      "Result for a  2-gram:  Alice was looking for a very neatly spread his belt and began . '\n",
      "Result for a  3-gram:  Alice was looking for eggs , I can kick a little bottle that stood\n",
      "Result for a  4-gram:  Alice was looking for the fan and a pair of white kid gloves ,\n"
     ]
    }
   ],
   "source": [
    "test_corpora(carroll, \"Alice was looking for\", 10)"
   ]
  },
  {
   "cell_type": "code",
   "execution_count": 17,
   "metadata": {
    "collapsed": false
   },
   "outputs": [
    {
     "name": "stdout",
     "output_type": "stream",
     "text": [
      "Result for a  2-gram:  However , there is a whale - fleet of this , and the two\n",
      "Result for a  3-gram:  However , there is no place to live in the captain ' s a\n",
      "Result for a  4-gram:  However , there is no telling . But a day or two previous ,\n"
     ]
    }
   ],
   "source": [
    "test_corpora(melville, \"However , there is\", 10)"
   ]
  },
  {
   "cell_type": "code",
   "execution_count": 18,
   "metadata": {
    "collapsed": false
   },
   "outputs": [
    {
     "name": "stdout",
     "output_type": "stream",
     "text": [
      "Result for a  2-gram:  I think that you must have been offered a whale , when the long\n",
      "Result for a  3-gram:  I think that you do yours in approved state stocks bringing in good time\n",
      "Result for a  4-gram:  I think that you really perceived drops of moisture in the spout - hole\n"
     ]
    }
   ],
   "source": [
    "test_corpora(melville, \"I think that you\", 10)"
   ]
  },
  {
   "cell_type": "code",
   "execution_count": 7,
   "metadata": {
    "collapsed": false
   },
   "outputs": [
    {
     "name": "stdout",
     "output_type": "stream",
     "text": [
      "25833 37360 23140\n"
     ]
    }
   ],
   "source": [
    "s1 = gutenberg.words('shakespeare-caesar.txt');\n",
    "s2 = gutenberg.words('shakespeare-hamlet.txt');\n",
    "s3 = gutenberg.words('shakespeare-macbeth.txt');\n",
    "print len(s1), len(s2), len(s3)"
   ]
  },
  {
   "cell_type": "code",
   "execution_count": 25,
   "metadata": {
    "collapsed": false
   },
   "outputs": [
    {
     "name": "stdout",
     "output_type": "stream",
     "text": [
      "Result for a  2-gram:  You are in great Caesar , and for your Testie Humour ? And do you are at Philippi Bru . I know not Brutus , I am no man , and friendly Conference ,\n",
      "Result for a  3-gram:  You are in great Caesars eare , For if thou louest me , Ile ne ' re look ' d , And tell them , it is not the Face of men , and\n",
      "Result for a  4-gram:  You are in great danger , I recouer them . As proper men as euer trod vpon Neats Leather , haue gone vpon my handy - worke Fla . But wherefore did you so\n"
     ]
    }
   ],
   "source": [
    "test_corpora(s1, \"You are in great\", 30)"
   ]
  },
  {
   "cell_type": "code",
   "execution_count": 28,
   "metadata": {
    "collapsed": false
   },
   "outputs": [
    {
     "name": "stdout",
     "output_type": "stream",
     "text": [
      "Result for a  2-gram:  This great buyer of the King . I could be so , That I am very potent poyson in this ; Addicted so ,\n",
      "Result for a  3-gram:  This great buyer of Land , And so am I ? Is it your owne necke downe Qu . Alas then , my Lord\n",
      "Result for a  4-gram:  This great buyer of Land , with his Statutes , his Recognizances , his Fines , and the trifling of his fauours , Hold\n"
     ]
    }
   ],
   "source": [
    "test_corpora(s2, \"This great buyer of\", 20)"
   ]
  },
  {
   "cell_type": "code",
   "execution_count": 33,
   "metadata": {
    "collapsed": false
   },
   "outputs": [
    {
     "name": "stdout",
     "output_type": "stream",
     "text": [
      "Result for a  2-gram:  I am afraid they not be done to thine owne demerits , That most may you haue tied me , and trouble , And\n",
      "Result for a  3-gram:  I am afraid they haue more vices then it had before , to thinke what I doe , and the Ague eate them vp\n",
      "Result for a  4-gram:  I am afraid they haue awak ' d him well , He hath a Wisdome , that doth guide his Valour , To act\n"
     ]
    }
   ],
   "source": [
    "test_corpora(s3, \"I am afraid they\", 20)"
   ]
  },
  {
   "cell_type": "markdown",
   "metadata": {},
   "source": [
    "# FIRST EXPERIMENTS : TUNING N"
   ]
  },
  {
   "cell_type": "code",
   "execution_count": 11,
   "metadata": {
    "collapsed": false
   },
   "outputs": [
    {
     "name": "stdout",
     "output_type": "stream",
     "text": [
      "Results for a 1-gram: \n",
      "Alice was looking for , , ' , ,' ,' , in her '\n",
      "Alice was looking for . in , ' ' it it , , '\n",
      "Alice was looking for ' and and ' , in a her , ,\n",
      "Alice was looking for and very ' ' the , said as , it\n",
      "Alice was looking for the to , ' , and !' and and '\n",
      "\n",
      "\n",
      "\n",
      "Results for a 2-gram: \n",
      "Alice was looking for the Queen , and the Queen ' s no doubt\n",
      "Alice was looking for a little timidly . ' s a little Alice .\n",
      "Alice was looking for the Gryphon . ' I ' t matter a great\n",
      "Alice was looking for a frog or twice , and the birds complained that\n",
      "Alice was looking for it doesn ' s a little thing was a moment\n",
      "\n",
      "\n",
      "\n",
      "Results for a 3-gram: \n",
      "Alice was looking for eggs , certainly ,' said the Mouse was bristling all\n",
      "Alice was looking for them , and he hurried off , and she swam\n",
      "Alice was looking for eggs , certainly ,' said Alice . ' I '\n",
      "Alice was looking for eggs , certainly ,' said the Mock Turtle replied ;\n",
      "Alice was looking for the pool , and said , ' I don '\n",
      "\n",
      "\n",
      "\n",
      "Results for a 4-gram: \n",
      "Alice was looking for the fan and gloves . ' How CAN I have\n",
      "Alice was looking for the fan and gloves . ' How CAN I have\n",
      "Alice was looking for the fan and gloves , and was just going to\n",
      "Alice was looking for the fan and gloves , and was going to shrink\n",
      "Alice was looking for the fan and gloves -- that is , but I\n",
      "\n",
      "\n",
      "\n"
     ]
    }
   ],
   "source": [
    "for k in range(1, 5, 1):\n",
    "    fm = NgramModel(k)\n",
    "    fm.train(carroll)\n",
    "    print \"Results for a\",(str(k)+\"-gram: \")\n",
    "    for k in range(5):\n",
    "        print fm.predict_words(\"Alice was looking for\", 10)\n",
    "    print \"\\n\""
   ]
  },
  {
   "cell_type": "code",
   "execution_count": 13,
   "metadata": {
    "collapsed": false
   },
   "outputs": [
    {
     "name": "stdout",
     "output_type": "stream",
     "text": [
      "Results for a 1-gram: \n",
      "I am afraid they . , . , Macb , , : , ,\n",
      "I am afraid they , , , , , . . : that and\n",
      "I am afraid they that , , . . . ' , : ,\n",
      "I am afraid they , . , , , of , he . ,\n",
      "I am afraid they ? , ' , , , , , of ,\n",
      "\n",
      "\n",
      "\n",
      "Results for a 2-gram: \n",
      "I am afraid they are abroad : So that : he not the pit\n",
      "I am afraid they are these are they had don ' th ' d\n",
      "I am afraid they were all our Cawdron All . Enter . Enter a\n",
      "I am afraid they not I haue done : the slow , and I\n",
      "I am afraid they are not be the King , And yet it .\n",
      "\n",
      "\n",
      "\n",
      "Results for a 3-gram: \n",
      "I am afraid they haue shew ' d , and not the way that\n",
      "I am afraid they haue don ' t : Their Hands and Faces were\n",
      "I am afraid they haue don ' t with me , And with some\n",
      "I am afraid they haue don ' t came by ? Len . I\n",
      "I am afraid they haue shew ' d , and a Seruant Feed .\n",
      "\n",
      "\n",
      "\n",
      "Results for a 4-gram: \n",
      "I am afraid they haue awak ' d him : here he comes Lenox\n",
      "I am afraid they haue awak ' d , and were distracted , No\n",
      "I am afraid they haue awak ' d , and prou ' d ,\n",
      "I am afraid they haue awak ' d , And ' tis not done\n",
      "I am afraid they haue awak ' d , Haue ouerthrowne him Macb .\n",
      "\n",
      "\n",
      "\n"
     ]
    }
   ],
   "source": [
    "for k in range(1, 5, 1):\n",
    "    fm = NgramModel(k)\n",
    "    fm.train(s3)\n",
    "    print \"Results for a\",(str(k)+\"-gram: \")\n",
    "    for k in range(5):\n",
    "        print fm.predict_words(\"I am afraid they\", 10)\n",
    "    print \"\\n\\n\""
   ]
  },
  {
   "cell_type": "code",
   "execution_count": null,
   "metadata": {
    "collapsed": true
   },
   "outputs": [],
   "source": [
    "bible = gutenberg.words('bible-kjv')\n",
    "for k in range(1, 5, 1):\n",
    "    fm = NgramModel(k)\n",
    "    fm.train(s3)\n",
    "    print \"Results for a\",(str(k)+\"-gram: \")\n",
    "    for k in range(5):\n",
    "        print fm.predict_words(\"One\", 10)\n",
    "    print \"\\n\\n\""
   ]
  }
 ],
 "metadata": {
  "kernelspec": {
   "display_name": "Python 2",
   "language": "python",
   "name": "python2"
  },
  "language_info": {
   "codemirror_mode": {
    "name": "ipython",
    "version": 2
   },
   "file_extension": ".py",
   "mimetype": "text/x-python",
   "name": "python",
   "nbconvert_exporter": "python",
   "pygments_lexer": "ipython2",
   "version": "2.7.9"
  }
 },
 "nbformat": 4,
 "nbformat_minor": 0
}
