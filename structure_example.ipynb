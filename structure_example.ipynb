{
 "cells": [
  {
   "cell_type": "code",
   "execution_count": 3,
   "metadata": {
    "collapsed": false
   },
   "outputs": [
    {
     "name": "stdout",
     "output_type": "stream",
     "text": [
      "260819\n",
      "34110\n"
     ]
    }
   ],
   "source": [
    "from models.bigram_model import BigramModel\n",
    "from models.trigram_model import TrigramModel\n",
    "from models.ngram_model import NgramModel\n",
    "\n",
    "from nltk.corpus import gutenberg\n",
    "melville = gutenberg.words('melville-moby_dick.txt')\n",
    "carroll = gutenberg.words('carroll-alice.txt')\n",
    "print len(melville)\n",
    "print len(carroll)"
   ]
  },
  {
   "cell_type": "code",
   "execution_count": 2,
   "metadata": {
    "collapsed": false
   },
   "outputs": [
    {
     "data": {
      "text/plain": [
       "[u'austen-emma.txt',\n",
       " u'austen-persuasion.txt',\n",
       " u'austen-sense.txt',\n",
       " u'bible-kjv.txt',\n",
       " u'blake-poems.txt',\n",
       " u'bryant-stories.txt',\n",
       " u'burgess-busterbrown.txt',\n",
       " u'carroll-alice.txt',\n",
       " u'chesterton-ball.txt',\n",
       " u'chesterton-brown.txt',\n",
       " u'chesterton-thursday.txt',\n",
       " u'edgeworth-parents.txt',\n",
       " u'melville-moby_dick.txt',\n",
       " u'milton-paradise.txt',\n",
       " u'shakespeare-caesar.txt',\n",
       " u'shakespeare-hamlet.txt',\n",
       " u'shakespeare-macbeth.txt',\n",
       " u'whitman-leaves.txt']"
      ]
     },
     "execution_count": 2,
     "metadata": {},
     "output_type": "execute_result"
    }
   ],
   "source": [
    "gutenberg.fileids()"
   ]
  },
  {
   "cell_type": "code",
   "execution_count": 9,
   "metadata": {
    "collapsed": false
   },
   "outputs": [
    {
     "data": {
      "text/plain": [
       "u'I think that you really perceived drops of moisture in the spout , whether'"
      ]
     },
     "execution_count": 9,
     "metadata": {},
     "output_type": "execute_result"
    }
   ],
   "source": [
    "fm = NgramModel(4)\n",
    "fm.train(words)\n",
    "\n",
    "fm.predict_words(\"I think that you\", 10)"
   ]
  },
  {
   "cell_type": "code",
   "execution_count": 13,
   "metadata": {
    "collapsed": false
   },
   "outputs": [
    {
     "name": "stdout",
     "output_type": "stream",
     "text": [
      "\n"
     ]
    }
   ],
   "source": [
    "def test_corpora(corpora, query, n):\n",
    "    for k in range(2, 5, 1):\n",
    "        fm = NgramModel(k)\n",
    "        fm.train(corpora)\n",
    "        print \"Result for a\",(str(k)+\"-gram: \"),fm.predict_words(query, n)"
   ]
  },
  {
   "cell_type": "code",
   "execution_count": 16,
   "metadata": {
    "collapsed": false
   },
   "outputs": [
    {
     "name": "stdout",
     "output_type": "stream",
     "text": [
      "Result for a  2-gram:  Alice was looking for a very neatly spread his belt and began . '\n",
      "Result for a  3-gram:  Alice was looking for eggs , I can kick a little bottle that stood\n",
      "Result for a  4-gram:  Alice was looking for the fan and a pair of white kid gloves ,\n"
     ]
    }
   ],
   "source": [
    "test_corpora(carroll, \"Alice was looking for\", 10)"
   ]
  },
  {
   "cell_type": "code",
   "execution_count": 17,
   "metadata": {
    "collapsed": false
   },
   "outputs": [
    {
     "name": "stdout",
     "output_type": "stream",
     "text": [
      "Result for a  2-gram:  However , there is a whale - fleet of this , and the two\n",
      "Result for a  3-gram:  However , there is no place to live in the captain ' s a\n",
      "Result for a  4-gram:  However , there is no telling . But a day or two previous ,\n"
     ]
    }
   ],
   "source": [
    "test_corpora(melville, \"However , there is\", 10)"
   ]
  },
  {
   "cell_type": "code",
   "execution_count": 18,
   "metadata": {
    "collapsed": false
   },
   "outputs": [
    {
     "name": "stdout",
     "output_type": "stream",
     "text": [
      "Result for a  2-gram:  I think that you must have been offered a whale , when the long\n",
      "Result for a  3-gram:  I think that you do yours in approved state stocks bringing in good time\n",
      "Result for a  4-gram:  I think that you really perceived drops of moisture in the spout - hole\n"
     ]
    }
   ],
   "source": [
    "test_corpora(melville, \"I think that you\", 10)"
   ]
  },
  {
   "cell_type": "code",
   "execution_count": null,
   "metadata": {
    "collapsed": true
   },
   "outputs": [],
   "source": []
  }
 ],
 "metadata": {
  "kernelspec": {
   "display_name": "Python 2",
   "language": "python",
   "name": "python2"
  },
  "language_info": {
   "codemirror_mode": {
    "name": "ipython",
    "version": 2
   },
   "file_extension": ".py",
   "mimetype": "text/x-python",
   "name": "python",
   "nbconvert_exporter": "python",
   "pygments_lexer": "ipython2",
   "version": "2.7.9"
  }
 },
 "nbformat": 4,
 "nbformat_minor": 0
}
