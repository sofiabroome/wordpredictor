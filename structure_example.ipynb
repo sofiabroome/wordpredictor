{
 "cells": [
  {
   "cell_type": "code",
   "execution_count": 1,
   "metadata": {
    "collapsed": false
   },
   "outputs": [],
   "source": [
    "from models.bigram_model import BigramModel\n",
    "from models.trigram_model import TrigramModel\n",
    "from nltk.corpus import gutenberg"
   ]
  },
  {
   "cell_type": "code",
   "execution_count": 2,
   "metadata": {
    "collapsed": false
   },
   "outputs": [
    {
     "name": "stdout",
     "output_type": "stream",
     "text": [
      "((u'white', u'whale'), 0.00011885682736620939)\n"
     ]
    }
   ],
   "source": [
    "words = gutenberg.words('melville-moby_dick.txt')\n",
    "\n",
    "bm = BigramModel()\n",
    "bm.train(words)\n",
    "\n",
    "matches = bm.predict_next_word(\"I would like to buy one can of white\")\n",
    "print matches[-1]"
   ]
  },
  {
   "cell_type": "code",
   "execution_count": 3,
   "metadata": {
    "collapsed": false
   },
   "outputs": [
    {
     "name": "stdout",
     "output_type": "stream",
     "text": [
      "((u'a', u'great', u'distance'), 7.668211811346654e-06)\n",
      "((u'a', u'great', u'distance'), 7.668211811346654e-06)\n",
      "((u'a', u'great', u'while'), 7.668211811346654e-06)\n",
      "((u'a', u'great', u'battle'), 7.668211811346654e-06)\n",
      "((u'a', u'great', u'battle'), 7.668211811346654e-06)\n"
     ]
    }
   ],
   "source": [
    "words = gutenberg.words('melville-moby_dick.txt')\n",
    "\n",
    "tm = TrigramModel()\n",
    "tm.train(words)\n",
    "\n",
    "matches = tm.predict_next_word(\"I think that you are a great\")\n",
    "print matches[-1]\n",
    "print matches[-2]\n",
    "print matches[-3]\n",
    "print matches[-4]\n",
    "print matches[-5]"
   ]
  },
  {
   "cell_type": "code",
   "execution_count": 4,
   "metadata": {
    "collapsed": false
   },
   "outputs": [
    {
     "name": "stdout",
     "output_type": "stream",
     "text": [
      "((u'Are', u'you', u'not'), 3.834105905673327e-06)\n",
      "((u'Are', u'you', u'a'), 3.834105905673327e-06)\n",
      "((u'Are', u'you', u'through'), 3.834105905673327e-06)\n"
     ]
    }
   ],
   "source": [
    "matches = tm.predict_next_word(\"Are you\")\n",
    "print matches[-1]\n",
    "print matches[-2]\n",
    "print matches[-3]"
   ]
  },
  {
   "cell_type": "code",
   "execution_count": 9,
   "metadata": {
    "collapsed": false
   },
   "outputs": [
    {
     "name": "stdout",
     "output_type": "stream",
     "text": [
      "RESULT:  I think that moody Ahab was by no means the largest , and the Hanoverian flag bearing the one who could tell but\n"
     ]
    }
   ],
   "source": [
    "words = gutenberg.words('melville-moby_dick.txt')\n",
    "\n",
    "tm = TrigramModel()\n",
    "tm.train(words)\n",
    "\n",
    "tm.predict_words(\"I think that\", 20)"
   ]
  },
  {
   "cell_type": "code",
   "execution_count": null,
   "metadata": {
    "collapsed": true
   },
   "outputs": [],
   "source": []
  }
 ],
 "metadata": {
  "kernelspec": {
   "display_name": "Python 2",
   "language": "python",
   "name": "python2"
  },
  "language_info": {
   "codemirror_mode": {
    "name": "ipython",
    "version": 2
   },
   "file_extension": ".py",
   "mimetype": "text/x-python",
   "name": "python",
   "nbconvert_exporter": "python",
   "pygments_lexer": "ipython2",
   "version": "2.7.9"
  }
 },
 "nbformat": 4,
 "nbformat_minor": 0
}
